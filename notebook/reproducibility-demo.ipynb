{
 "cells": [
  {
   "cell_type": "markdown",
   "id": "9c73d091",
   "metadata": {},
   "source": [
    "# Reproducibility Testing Workshop\n",
    "2025-06-11 <br>\n",
    "BCHM 5420 <br>\n",
    "Rex Asis <br>\n",
    "\n",
    "## Introduction\n",
    "This demo will outline the steps taken to take a list of desired contigs from a multi-FASTA file, then split these contigs into single FASTA files, e.g.,"
   ]
  },
  {
   "cell_type": "code",
   "execution_count": null,
   "id": "08295a3b",
   "metadata": {},
   "outputs": [],
   "source": [
    "# Input is a multi fasta file\n",
    "cat multi.fasta\n",
    ">contig1 \n",
    "AGTCAGCATTTACTA\n",
    ">contig2 \n",
    "GTCTGTAGCTAGTCAGTCAGT\n",
    ">contig3 \n",
    "TAGCTAGATCAG\n",
    ">contig4 \n",
    "CGATAGCTAGATGCTAGTAGCTAGCTA\n",
    "\n",
    "# Select a few FASTA headers or IDs, which get placed in a new fasta file\n",
    "cat list.fasta\n",
    ">contig2 \n",
    "GTCTGTAGCTAGTCAGTCAGT\n",
    ">contig3 \n",
    "TAGCTAGATCAG\n",
    "\n",
    "# Split the new file into individual fasta files\n",
    "cat list.contig2.fasta\n",
    ">contig2 \n",
    "GTCTGTAGCTAGTCAGTCAGT\n",
    "\n",
    "cat list.contig3.fasta\n",
    ">contig3 \n",
    "TAGCTAGATCAG"
   ]
  },
  {
   "cell_type": "markdown",
   "id": "5137826c",
   "metadata": {},
   "source": [
    "## Inputs Required\n",
    "1. FASTA (.fasta) file containing the multiple contigs\n",
    "2. Text (.txt) file containing list of contigs that needs to be extracted from the fasta file\n",
    "3. (optional, but convenient) custom bash script (.sh) that combines two commands together\n",
    "\n",
    "\n",
    "## Steps\n",
    "All commands will be ran in bash."
   ]
  },
  {
   "cell_type": "code",
   "execution_count": null,
   "id": "ed443f2f",
   "metadata": {},
   "outputs": [],
   "source": [
    "#!/bin/bash"
   ]
  },
  {
   "cell_type": "markdown",
   "id": "4954c40c",
   "metadata": {},
   "source": [
    "1. Clone GitHub repository, which I made for the purposes of this demo: https://github.com/rex-asis/BCHM5420-project-demo# <br>\n",
    " (My project repository may take a bit longer to clone, so opted to make a smaller one instead)"
   ]
  },
  {
   "cell_type": "code",
   "execution_count": null,
   "id": "66f94731",
   "metadata": {},
   "outputs": [],
   "source": [
    "git clone git@github.com:rex-asis/BCHM5420-project-demo.git"
   ]
  },
  {
   "cell_type": "markdown",
   "id": "e1759467",
   "metadata": {},
   "source": [
    "The home directory is called **BCHM-5420-project-demo**. It will contain two directories: _inputs_ and _scripts_. Each directories also contain the files that we will need to run for this demo."
   ]
  },
  {
   "cell_type": "markdown",
   "id": "5328d61b",
   "metadata": {},
   "source": [
    "2. Setup conda environment. I use mamba, but conda (likely micromamba as well) will work. No docker though :("
   ]
  },
  {
   "cell_type": "code",
   "execution_count": null,
   "id": "5a8bcbe7",
   "metadata": {},
   "outputs": [],
   "source": [
    "#!/bin/bash\n",
    "# Install 'seqkit' tool from anaconda: https://anaconda.org/bioconda/seqkit\n",
    "mamba create -n seqkit\n",
    "mamba activate seqkit\n",
    "mamba install -c bioconda seqkit"
   ]
  },
  {
   "cell_type": "markdown",
   "id": "910b499e",
   "metadata": {},
   "source": [
    "3. If we change directories to _inputs_, we will see 3 .fasta files. We need to combine this into 1 file using a command:"
   ]
  },
  {
   "cell_type": "code",
   "execution_count": null,
   "id": "6b1b6201",
   "metadata": {},
   "outputs": [],
   "source": [
    "cd /your/path/info/BCHM5420-project-demo/inputs\n",
    "cat *.fasta > ptr-genomes.fasta"
   ]
  },
  {
   "cell_type": "markdown",
   "id": "9f4b2563",
   "metadata": {},
   "source": [
    "**Side Note**: I would have provided the combined file to you but it's too big for git!"
   ]
  },
  {
   "cell_type": "markdown",
   "id": "a5107409",
   "metadata": {},
   "source": [
    "4. Let's move back to the project's home directory and create a new set of directories. This is where the output of the main command will be deposited:"
   ]
  },
  {
   "cell_type": "code",
   "execution_count": null,
   "id": "16383910",
   "metadata": {},
   "outputs": [],
   "source": [
    "cd /your/path/info/BCHM5420-project-demo/\n",
    "mkdir -p outputs/seqkit # makes a directory called 'outputs', then another directory within 'outputs', called seqkit "
   ]
  },
  {
   "cell_type": "markdown",
   "id": "75cd495f",
   "metadata": {},
   "source": [
    "5. Checking that we're still in the project's home directory, we can now run our main command:"
   ]
  },
  {
   "cell_type": "code",
   "execution_count": null,
   "id": "4207dfa0",
   "metadata": {},
   "outputs": [],
   "source": [
    "bash scripts/seqkit-extract-v2025.06.08.sh region3"
   ]
  },
  {
   "cell_type": "markdown",
   "id": "a23dd1af",
   "metadata": {},
   "source": [
    "## Expected Outcome\n",
    "Running this command will provide a few different outputs:\n",
    "1. region3.fasta: Multi FASTA file containing only the list of FASTA headers selected"
   ]
  },
  {
   "cell_type": "code",
   "execution_count": null,
   "id": "f6667bb3",
   "metadata": {},
   "outputs": [],
   "source": [
    "cd /your/path/info/BCHM5420-project-demo/outputs/seqkit\n",
    "ls"
   ]
  },
  {
   "attachments": {
    "seqkit-output1.png": {
     "image/png": "[encoded data removed]"
    }
   },
   "cell_type": "markdown",
   "id": "76ae8872",
   "metadata": {},
   "source": [
    "![seqkit-output1.png](attachment:seqkit-output1.png)"
   ]
  },
  {
   "cell_type": "markdown",
   "id": "a879c307",
   "metadata": {},
   "source": [
    "2. region3.fasta.split: This is a directory, which contains single FASTA files that came from splitting the multi FASTA file from above"
   ]
  },
  {
   "attachments": {
    "seqkit-output2.png": {
     "image/png": "[encoded data removed]"
    }
   },
   "cell_type": "markdown",
   "id": "a10f3130",
   "metadata": {},
   "source": [
    "![seqkit-output2.png](attachment:seqkit-output2.png)"
   ]
  },
  {
   "cell_type": "markdown",
   "id": "d30803b8",
   "metadata": {},
   "source": [
    "## Breaking Down The Command\n",
    "The command we ran relies on a custom bash script, **seqkit-extract-v2025.06.08.sh**, which looks like this:"
   ]
  },
  {
   "cell_type": "code",
   "execution_count": null,
   "id": "cf969530",
   "metadata": {},
   "outputs": [],
   "source": [
    "### 2025-06-08 Rex Asis\n",
    "### seqkit-extract-v2025.06.08.sh\n",
    "### This script will extract a list of FASTA headers from a multi-FASTA file, then generate individual single FASTA files\n",
    "\n",
    "## Inputs required\n",
    "# 1. Multi FASTA file\n",
    "# 2. A text file containing the list of single FASTA sequences that want to be extracted.\n",
    "\n",
    "# cd ~/BCHM5420/BCHM5420_class_project\n",
    "# bash scripts/seqkit-extract.sh $1\n",
    "seqkit grep -f inputs/seqkit/$1.txt inputs/ptr-genomes.fasta -o outputs/seqkit/$1.fasta\n",
    "seqkit split outputs/seqkit/$1.fasta -i"
   ]
  },
  {
   "cell_type": "markdown",
   "id": "81955c6f",
   "metadata": {},
   "source": [
    "Let's breakdown these commands.\n",
    "\n",
    "1. **(Optional - can skip to '2.' for the sake of time, but feel free to look through later)** The first thing you will notice is the following symbol:"
   ]
  },
  {
   "cell_type": "code",
   "execution_count": null,
   "id": "6bf97ee5",
   "metadata": {},
   "outputs": [],
   "source": [
    "$1"
   ]
  },
  {
   "cell_type": "markdown",
   "id": "b46ce037",
   "metadata": {},
   "source": [
    "In Bash script, this is called a variable. It let's us generalize the code so that we can apply it beyond a single file. <br>\n",
    "Let's take a simpler command for example:"
   ]
  },
  {
   "cell_type": "code",
   "execution_count": null,
   "id": "fc1700f1",
   "metadata": {},
   "outputs": [],
   "source": [
    "#!/bin/bash\n",
    "# Open file and only read first 2 lines\n",
    "cat multi.fasta | head -2\n",
    "\n",
    "# output\n",
    ">contig1 \n",
    "AGTCAGCATTTACTA"
   ]
  },
  {
   "cell_type": "markdown",
   "id": "223b8eb9",
   "metadata": {},
   "source": [
    "But what if I want to run this command for a different fasta file? I'm lazy, so I don't want to type the same command over and over. <br>\n",
    "Another way is to write this command in a bash script (called 'open-file.sh'), and generalize the file name to $1: "
   ]
  },
  {
   "cell_type": "code",
   "execution_count": null,
   "id": "9c1e53f3",
   "metadata": {},
   "outputs": [],
   "source": [
    "#!/bin/bash\n",
    "# open-file.sh\n",
    "cat $1.fasta | head -2"
   ]
  },
  {
   "cell_type": "markdown",
   "id": "58f41feb",
   "metadata": {},
   "source": [
    "Now we can run the script as follows:"
   ]
  },
  {
   "cell_type": "code",
   "execution_count": null,
   "id": "0894df09",
   "metadata": {},
   "outputs": [],
   "source": [
    "#!/bin/bash\n",
    "# Open file called multi.fasta\n",
    "bash open-file.sh multi\n",
    "\n",
    "# output\n",
    ">contig1 \n",
    "AGTCAGCATTTACTA"
   ]
  },
  {
   "cell_type": "markdown",
   "id": "02572691",
   "metadata": {},
   "source": [
    "This command is telling us to run a bash script, and to replace every $1 with the string 'multi'. <br>\n",
    "What's nice is that we can use the same script to open another file, e.g., list.fasta, by replacing 'multi' with 'list'"
   ]
  },
  {
   "cell_type": "code",
   "execution_count": null,
   "id": "5446a07a",
   "metadata": {},
   "outputs": [],
   "source": [
    "#!/bin/bash\n",
    "# Open file called list.fasta\n",
    "bash open-file.sh list\n",
    "\n",
    "# output\n",
    ">contig2 \n",
    "GTCTGTAGCTAGTCAGTCAGT"
   ]
  },
  {
   "cell_type": "markdown",
   "id": "c0caa15c",
   "metadata": {},
   "source": [
    "2. Now looking closer at each command in the script:"
   ]
  },
  {
   "cell_type": "code",
   "execution_count": null,
   "id": "38a6e8e8",
   "metadata": {},
   "outputs": [],
   "source": [
    "# Command 1\n",
    "seqkit grep -f inputs/seqkit/$1.txt inputs/ptr-genomes.fasta -o outputs/seqkit/$1.fasta\n",
    "\n",
    "seqkit grep # Seach sequences based on ID/name/sequence motifs. We're using it for ID (aka FASTA header) \n",
    "    -f inputs/seqkit/$1.txt inputs/ptr-genomes.fasta # Search for the corresponding FASTA headers listed in the .txt file ($1 is a filler) within the fasta file\n",
    "    -o outputs/seqkit/$1.fasta # Place the output in the folder"
   ]
  },
  {
   "cell_type": "markdown",
   "id": "83300b97",
   "metadata": {},
   "source": [
    "The goal of this first command is to search for a provided list sequences within a FASTA file, given the sequence ID. Then, it combines all of those sequences into one file."
   ]
  },
  {
   "cell_type": "code",
   "execution_count": null,
   "id": "931fbfd0",
   "metadata": {},
   "outputs": [],
   "source": [
    "# Command 2\n",
    "seqkit split outputs/seqkit/$1.fasta -i\n",
    "\n",
    "\n",
    "seqkit split outputs/seqkit/$1.fasta # Split the given fasta file in a particular way\n",
    "    -i # Split into invididual sequences"
   ]
  },
  {
   "cell_type": "markdown",
   "id": "f255a638",
   "metadata": {},
   "source": [
    "This second command will take the multi FASTA output from above, and split it into individual sequences."
   ]
  },
  {
   "cell_type": "markdown",
   "id": "f541c724",
   "metadata": {},
   "source": [
    "Since this is a bash script, it must to written as follows in order to run:"
   ]
  },
  {
   "cell_type": "code",
   "execution_count": null,
   "id": "ab50acfc",
   "metadata": {},
   "outputs": [],
   "source": [
    "#!/bin/bash\n",
    "bash open-file.sh <name of file without .txt extension>\n",
    "\n",
    "# e.g., if we want to open a file called region3.txt\n",
    "bash seqkit-extract-v2025.06.08.sh region3"
   ]
  },
  {
   "cell_type": "markdown",
   "id": "f06c0267",
   "metadata": {},
   "source": [
    "Rinse and repeat. You can imagine that this script can be used to locate a new set of contigs. The names of these contigs should be added to a new text file, such as 'newcontigs'. With this new file, we just have to replace $1 (aka 'region3' in the demo above) with 'newcontigs'"
   ]
  }
 ],
 "metadata": {
  "kernelspec": {
   "display_name": "uleth_advanced_bioinfo2",
   "language": "python",
   "name": "python3"
  },
  "language_info": {
   "codemirror_mode": {
    "name": "ipython",
    "version": 3
   },
   "file_extension": ".py",
   "mimetype": "text/x-python",
   "name": "python",
   "nbconvert_exporter": "python",
   "pygments_lexer": "ipython3",
   "version": "3.12.3"
  }
 },
 "nbformat": 4,
 "nbformat_minor": 5
}
